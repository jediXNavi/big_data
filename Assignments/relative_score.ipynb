{
 "cells": [
  {
   "cell_type": "code",
   "execution_count": 1,
   "metadata": {},
   "outputs": [],
   "source": [
    "import findspark\n",
    "\n",
    "findspark.init()\n",
    "\n",
    "from pyspark import SparkContext, SparkConf\n",
    "import json\n",
    "\n",
    "def json_parser(line):\n",
    "    parser = json.loads(line)\n",
    "    return parser\n",
    "\n",
    "def serialize(line):\n",
    "    encoder = json.dumps(line, sort_keys = True)\n",
    "    return encoder\n",
    "\n",
    "def reducer(x,y):\n",
    "    sum_scores = x[0] + y[0]\n",
    "    count = x[1] + y[1]\n",
    "    return sum_scores,count\n",
    "\n",
    "def cal_avg(kv):\n",
    "    k, (sum_score, count) = kv\n",
    "    return (k, sum_score/count)\n",
    "\n",
    "def rel_score(kv):\n",
    "    k, (avg, comm_score) = kv\n",
    "    return k,comm_score/avg\n",
    "\n",
    "def max_score(x,y):\n",
    "    if y>x:\n",
    "        return y\n",
    "    else:\n",
    "        return x\n",
    "\n",
    "def get_key(kv):\n",
    "    return kv[1]\n",
    "    \n",
    "\n",
    "conf = SparkConf().setAppName('reddit_av')\n",
    "\n",
    "sc = SparkContext(conf=conf)\n",
    "\n",
    "rdd0 = sc.textFile('../../Downloads/reddit-1')\n",
    "\n",
    "rdd1= rdd0.map(json_parser).cache()\n",
    "commentbysub = rdd1.map(lambda c: (c['subreddit'], c))\n",
    "\n",
    "rdd2= rdd1.map(lambda line:(line['subreddit'],(line['score'],1)))\n",
    "rdd3= rdd2.reduceByKey(reducer)\n",
    "rdd4 = rdd3.map(cal_avg)\n",
    "filtered_rdd4 = rdd4.filter(lambda line:line[1] > 0)"
   ]
  },
  {
   "cell_type": "code",
   "execution_count": 2,
   "metadata": {},
   "outputs": [],
   "source": [
    "pairRDD = filtered_rdd4.join(commentbysub)"
   ]
  },
  {
   "cell_type": "code",
   "execution_count": 3,
   "metadata": {},
   "outputs": [
    {
     "data": {
      "text/plain": [
       "[('scala', (1873, 971)),\n",
       " ('Genealogy', (1396, 746)),\n",
       " ('xkcd', (38329, 7269)),\n",
       " ('Cameras', (11, 9)),\n",
       " ('optometry', (222, 151))]"
      ]
     },
     "execution_count": 3,
     "metadata": {},
     "output_type": "execute_result"
    }
   ],
   "source": [
    "rdd3.take(10)"
   ]
  },
  {
   "cell_type": "code",
   "execution_count": 4,
   "metadata": {},
   "outputs": [],
   "source": [
    "finalRDD = pairRDD.map(lambda line: (line[1][1]['author'],(line[1][0],line[1][1]['score'])))"
   ]
  },
  {
   "cell_type": "code",
   "execution_count": 5,
   "metadata": {},
   "outputs": [],
   "source": [
    "finalRDD1 = finalRDD.map(rel_score)"
   ]
  },
  {
   "cell_type": "code",
   "execution_count": 14,
   "metadata": {},
   "outputs": [
    {
     "name": "stdout",
     "output_type": "stream",
     "text": [
      "[('jankotek', -4.147357180993059)]\n"
     ]
    }
   ],
   "source": [
    "print(finalRDD1.filter(lambda line: line[0]==\"jankotek\").take(10))"
   ]
  },
  {
   "cell_type": "code",
   "execution_count": 6,
   "metadata": {},
   "outputs": [],
   "source": [
    "finalRDD2 = finalRDD1.reduceByKey(max_score).sortByKey()"
   ]
  },
  {
   "cell_type": "code",
   "execution_count": 7,
   "metadata": {},
   "outputs": [],
   "source": [
    "f3 = finalRDD2.sortBy(get_key, ascending= True)"
   ]
  },
  {
   "cell_type": "code",
   "execution_count": 8,
   "metadata": {},
   "outputs": [
    {
     "data": {
      "text/plain": [
       "[('jankotek', -4.147357180993059),\n",
       " ('andyzweb', -3.224007931331368),\n",
       " ('igkunow', -3.224007931331368),\n",
       " ('pragmatist', -3.0343604059589344),\n",
       " ('Golden_Bender', -2.0861227790967676),\n",
       " ('patchbag', -1.896475253724334),\n",
       " ('stringerbell', -1.896475253724334),\n",
       " ('voiceofdissent', -1.896475253724334),\n",
       " ('matrixifyme', -1.7068277283519007),\n",
       " ('wza', -1.6031518624641834)]"
      ]
     },
     "execution_count": 8,
     "metadata": {},
     "output_type": "execute_result"
    }
   ],
   "source": [
    "f3.take(10)"
   ]
  },
  {
   "cell_type": "code",
   "execution_count": null,
   "metadata": {},
   "outputs": [],
   "source": []
  }
 ],
 "metadata": {
  "anaconda-cloud": {},
  "kernelspec": {
   "display_name": "Python 3",
   "language": "python",
   "name": "python3"
  },
  "language_info": {
   "codemirror_mode": {
    "name": "ipython",
    "version": 3
   },
   "file_extension": ".py",
   "mimetype": "text/x-python",
   "name": "python",
   "nbconvert_exporter": "python",
   "pygments_lexer": "ipython3",
   "version": "3.7.3"
  }
 },
 "nbformat": 4,
 "nbformat_minor": 1
}
