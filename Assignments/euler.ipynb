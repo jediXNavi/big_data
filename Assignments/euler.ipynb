{
 "cells": [
  {
   "cell_type": "code",
   "execution_count": 1,
   "metadata": {},
   "outputs": [],
   "source": [
    "\n",
    "\n",
    "from pyspark import SparkContext, SparkConf\n",
    "import random\n",
    "import sys\n",
    "\n",
    "conf = SparkConf().setAppName('euler')\n",
    "sc = SparkContext(conf=conf)\n",
    "sample = sys.argv[0]\n",
    "main(inputs)\n",
    "\n",
    "def deriving_eulers(line):\n",
    "        iter = 0\n",
    "        for i in range(line):\n",
    "            sum = 0.0\n",
    "            while sum < 1.0:\n",
    "               random.seed()\n",
    "               sum += random.random()\n",
    "               iter += 1\n",
    "        return (iter/line)\n",
    "        \n",
    "    \n",
    "    \n",
    "\n",
    "rdd0 = sc.parallelize(range(0,sample),numSlices=1000)\n",
    "\n",
    "rdd1=rdd0.map(deriving_eulers)\n",
    "\n",
    "rdd1.take(1000)\n",
    "\n",
    "euler_rdd = rdd1.reduce(lambda x,y: (x+y))\n",
    "\n",
    "euler_constant = euler_rdd/sample\n",
    "\n",
    "print(euler_constant)"
   ]
  }
 ],
 "metadata": {
  "kernelspec": {
   "display_name": "Python 3",
   "language": "python",
   "name": "python3"
  },
  "language_info": {
   "codemirror_mode": {
    "name": "ipython",
    "version": 3
   },
   "file_extension": ".py",
   "mimetype": "text/x-python",
   "name": "python",
   "nbconvert_exporter": "python",
   "pygments_lexer": "ipython3",
   "version": "3.7.3"
  }
 },
 "nbformat": 4,
 "nbformat_minor": 2
}
