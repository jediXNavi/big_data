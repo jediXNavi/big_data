{
 "cells": [
  {
   "cell_type": "code",
   "execution_count": 1,
   "metadata": {},
   "outputs": [],
   "source": [
    "import findspark"
   ]
  },
  {
   "cell_type": "code",
   "execution_count": 2,
   "metadata": {},
   "outputs": [],
   "source": [
    "findspark.init()"
   ]
  },
  {
   "cell_type": "code",
   "execution_count": 3,
   "metadata": {},
   "outputs": [],
   "source": [
    "from pyspark import SparkContext, SparkConf\n",
    "import sys\n",
    "import json\n",
    "import re\n",
    "\n",
    "conf = SparkConf().setAppName('reddit_etl')\n",
    "sc = SparkContext(conf=conf)"
   ]
  },
  {
   "cell_type": "code",
   "execution_count": 4,
   "metadata": {},
   "outputs": [],
   "source": [
    "def format(dict):\n",
    "    return dict['subreddit'],dict['score'],dict['author']\n",
    "\n",
    "def json_parser(line):\n",
    "    parser = json.loads(line,object_hook=format)\n",
    "    return parser\n",
    "\n",
    "def filter_data(line):\n",
    "    if 'e' in line[0]:\n",
    "        yield line\n",
    "\n",
    "\n",
    "def serialize(line):\n",
    "    encoder = json.dumps(line, sort_Keys=True)\n",
    "    return encoder"
   ]
  },
  {
   "cell_type": "code",
   "execution_count": 5,
   "metadata": {},
   "outputs": [],
   "source": [
    "rdd0 = sc.textFile('../../Downloads/reddit-2')"
   ]
  },
  {
   "cell_type": "code",
   "execution_count": 6,
   "metadata": {},
   "outputs": [],
   "source": [
    "rdd1= rdd0.map(json_parser)"
   ]
  },
  {
   "cell_type": "code",
   "execution_count": 7,
   "metadata": {},
   "outputs": [
    {
     "data": {
      "text/plain": [
       "[('MechanicalKeyboards', 1, 'ripster55'),\n",
       " ('MechanicalKeyboards', 1, 'RavenIl'),\n",
       " ('zelda', 2, 'SupaStaVince'),\n",
       " ('MechanicalKeyboards', 1, 'medic__'),\n",
       " ('MechanicalKeyboards', 2, 'philmtl'),\n",
       " ('surfing', 2, 'Mdizzle29'),\n",
       " ('surfing', 1, 'craigybacha'),\n",
       " ('MechanicalKeyboards', 2, 'evrydayzawrkday'),\n",
       " ('xkcd', 1, '[deleted]'),\n",
       " ('surfing', 1, 'meateoryears')]"
      ]
     },
     "execution_count": 7,
     "metadata": {},
     "output_type": "execute_result"
    }
   ],
   "source": [
    "rdd1.take(10)"
   ]
  },
  {
   "cell_type": "code",
   "execution_count": 8,
   "metadata": {},
   "outputs": [],
   "source": [
    "rdd2= rdd1.flatMap(filter_data)"
   ]
  },
  {
   "cell_type": "code",
   "execution_count": 10,
   "metadata": {},
   "outputs": [
    {
     "data": {
      "text/plain": [
       "[('MechanicalKeyboards', 1, 'ripster55'),\n",
       " ('MechanicalKeyboards', 1, 'RavenIl'),\n",
       " ('zelda', 2, 'SupaStaVince'),\n",
       " ('MechanicalKeyboards', 1, 'medic__'),\n",
       " ('MechanicalKeyboards', 2, 'philmtl'),\n",
       " ('MechanicalKeyboards', 2, 'evrydayzawrkday'),\n",
       " ('MechanicalKeyboards', 2, 'cowbeef01'),\n",
       " ('MechanicalKeyboards', 2, 'spock345'),\n",
       " ('MechanicalKeyboards', 1, 'j0wy'),\n",
       " ('zelda', 2, 'danaran')]"
      ]
     },
     "execution_count": 10,
     "metadata": {},
     "output_type": "execute_result"
    }
   ],
   "source": []
  },
  {
   "cell_type": "code",
   "execution_count": null,
   "metadata": {},
   "outputs": [],
   "source": []
  },
  {
   "cell_type": "code",
   "execution_count": null,
   "metadata": {},
   "outputs": [],
   "source": []
  },
  {
   "cell_type": "code",
   "execution_count": null,
   "metadata": {},
   "outputs": [],
   "source": []
  }
 ],
 "metadata": {
  "anaconda-cloud": {},
  "kernelspec": {
   "display_name": "Python 3",
   "language": "python",
   "name": "python3"
  },
  "language_info": {
   "codemirror_mode": {
    "name": "ipython",
    "version": 3
   },
   "file_extension": ".py",
   "mimetype": "text/x-python",
   "name": "python",
   "nbconvert_exporter": "python",
   "pygments_lexer": "ipython3",
   "version": "3.7.3"
  }
 },
 "nbformat": 4,
 "nbformat_minor": 1
}
